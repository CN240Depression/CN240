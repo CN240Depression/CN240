{
 "cells": [
  {
   "cell_type": "code",
   "execution_count": 40,
   "metadata": {},
   "outputs": [],
   "source": [
    "import pandas as pd\n",
    "import os\n",
    "import shutil\n",
    "lablePath = \"D:/CN240/facial_expressions/data/500_picts_satz.csv\"\n",
    "df_500 = pd.read_csv(lablePath)"
   ]
  },
  {
   "cell_type": "code",
   "execution_count": 10,
   "metadata": {},
   "outputs": [
    {
     "data": {
      "text/plain": [
       "0       Sourav_Ganguly_0004.jpg\n",
       "1       Sourav_Ganguly_0005.jpg\n",
       "2      Spencer_Abraham_0001.jpg\n",
       "3      Spencer_Abraham_0003.jpg\n",
       "4      Spencer_Abraham_0004.jpg\n",
       "                 ...           \n",
       "494       Tim_Pawlenty_0001.jpg\n",
       "495        Tim_Robbins_0001.jpg\n",
       "496        Tim_Robbins_0002.jpg\n",
       "497        Tim_Robbins_0003.jpg\n",
       "498        Tim_Robbins_0004.jpg\n",
       "Name: Sourav_Ganguly_0003.jpg, Length: 499, dtype: object"
      ]
     },
     "execution_count": 10,
     "metadata": {},
     "output_type": "execute_result"
    }
   ],
   "source": [
    "df_500.iloc[:,-2]"
   ]
  },
  {
   "cell_type": "code",
   "execution_count": 20,
   "metadata": {},
   "outputs": [],
   "source": [
    "legendPath = \"D:/CN240/facial_expressions/data/legend.csv\"\n",
    "df_images = pd.read_csv(legendPath)\n",
    "# col_names = ['image','emotion']\n",
    "img_name = df_images['image']\n",
    "df_images['emotion'] = df_images['emotion'].str.lower()\n",
    "emoType = df_images['emotion'].astype('category')"
   ]
  },
  {
   "cell_type": "code",
   "execution_count": 23,
   "metadata": {},
   "outputs": [
    {
     "data": {
      "text/html": [
       "<div>\n",
       "<style scoped>\n",
       "    .dataframe tbody tr th:only-of-type {\n",
       "        vertical-align: middle;\n",
       "    }\n",
       "\n",
       "    .dataframe tbody tr th {\n",
       "        vertical-align: top;\n",
       "    }\n",
       "\n",
       "    .dataframe thead th {\n",
       "        text-align: right;\n",
       "    }\n",
       "</style>\n",
       "<table border=\"1\" class=\"dataframe\">\n",
       "  <thead>\n",
       "    <tr style=\"text-align: right;\">\n",
       "      <th></th>\n",
       "      <th>user.id</th>\n",
       "      <th>image</th>\n",
       "      <th>emotion</th>\n",
       "    </tr>\n",
       "  </thead>\n",
       "  <tbody>\n",
       "    <tr>\n",
       "      <th>count</th>\n",
       "      <td>13690</td>\n",
       "      <td>13690</td>\n",
       "      <td>13690</td>\n",
       "    </tr>\n",
       "    <tr>\n",
       "      <th>unique</th>\n",
       "      <td>5</td>\n",
       "      <td>13682</td>\n",
       "      <td>8</td>\n",
       "    </tr>\n",
       "    <tr>\n",
       "      <th>top</th>\n",
       "      <td>dwdii</td>\n",
       "      <td>Kimora_Lee_0001.jpg</td>\n",
       "      <td>neutral</td>\n",
       "    </tr>\n",
       "    <tr>\n",
       "      <th>freq</th>\n",
       "      <td>6667</td>\n",
       "      <td>2</td>\n",
       "      <td>6868</td>\n",
       "    </tr>\n",
       "  </tbody>\n",
       "</table>\n",
       "</div>"
      ],
      "text/plain": [
       "       user.id                image  emotion\n",
       "count    13690                13690    13690\n",
       "unique       5                13682        8\n",
       "top      dwdii  Kimora_Lee_0001.jpg  neutral\n",
       "freq      6667                    2     6868"
      ]
     },
     "execution_count": 23,
     "metadata": {},
     "output_type": "execute_result"
    }
   ],
   "source": [
    "df_images.describe()"
   ]
  },
  {
   "cell_type": "code",
   "execution_count": 24,
   "metadata": {},
   "outputs": [
    {
     "data": {
      "text/plain": [
       "0            anger\n",
       "1         surprise\n",
       "2          disgust\n",
       "3             fear\n",
       "4          neutral\n",
       "           ...    \n",
       "13685    happiness\n",
       "13686    happiness\n",
       "13687    happiness\n",
       "13688    happiness\n",
       "13689    happiness\n",
       "Name: emotion, Length: 13690, dtype: category\n",
       "Categories (8, object): ['anger', 'contempt', 'disgust', 'fear', 'happiness', 'neutral', 'sadness', 'surprise']"
      ]
     },
     "execution_count": 24,
     "metadata": {},
     "output_type": "execute_result"
    }
   ],
   "source": [
    "emoType"
   ]
  },
  {
   "cell_type": "code",
   "execution_count": 54,
   "metadata": {},
   "outputs": [],
   "source": [
    "destPath = \"D:/CN240/facial_expressions/newImg/\"\n",
    "imgPath = \"D:/CN240/facial_expressions/images/\"\n",
    "\n",
    "anger = emoType=='anger'\n",
    "contempt = emoType=='contempt'\n",
    "disgust = emoType=='disgust'\n",
    "fear = emoType=='fear'\n",
    "happiness = emoType=='happiness'\n",
    "neutral = emoType=='neutral'\n",
    "sadness = emoType=='sadness'\n",
    "surprise = emoType=='surprise'\n"
   ]
  },
  {
   "cell_type": "code",
   "execution_count": 61,
   "metadata": {},
   "outputs": [],
   "source": [
    "def copyImgToDest(srcPath, dataframe, destPath, itype):\n",
    "    os.chdir(srcPath)\n",
    "    rDP = os.path.join(destPath,itype)\n",
    "    for fileName in dataframe:\n",
    "        fileSrc = os.path.join(srcPath,fileName)\n",
    "        shutil.copy(fileSrc, rDP)"
   ]
  },
  {
   "cell_type": "code",
   "execution_count": 56,
   "metadata": {},
   "outputs": [],
   "source": [
    "copyImgToDest(imgPath,img_name[anger],destPath,'anger')"
   ]
  },
  {
   "cell_type": "code",
   "execution_count": 57,
   "metadata": {},
   "outputs": [],
   "source": [
    "copyImgToDest(imgPath,img_name[contempt],destPath,'contempt')"
   ]
  },
  {
   "cell_type": "code",
   "execution_count": 58,
   "metadata": {},
   "outputs": [],
   "source": [
    "copyImgToDest(imgPath,img_name[disgust],destPath,'disgust')"
   ]
  },
  {
   "cell_type": "code",
   "execution_count": 59,
   "metadata": {},
   "outputs": [],
   "source": [
    "copyImgToDest(imgPath,img_name[fear],destPath,'fear')"
   ]
  },
  {
   "cell_type": "code",
   "execution_count": 60,
   "metadata": {},
   "outputs": [],
   "source": [
    "copyImgToDest(imgPath,img_name[happiness],destPath,'happiness')"
   ]
  },
  {
   "cell_type": "code",
   "execution_count": 62,
   "metadata": {},
   "outputs": [],
   "source": [
    "copyImgToDest(imgPath,img_name[neutral],destPath,'neutral')"
   ]
  },
  {
   "cell_type": "code",
   "execution_count": 63,
   "metadata": {},
   "outputs": [],
   "source": [
    "copyImgToDest(imgPath,img_name[sadness],destPath,'sadness')"
   ]
  },
  {
   "cell_type": "code",
   "execution_count": 64,
   "metadata": {},
   "outputs": [],
   "source": [
    "copyImgToDest(imgPath,img_name[surprise],destPath,'surprise')"
   ]
  },
  {
   "cell_type": "code",
   "execution_count": null,
   "metadata": {},
   "outputs": [],
   "source": []
  }
 ],
 "metadata": {
  "kernelspec": {
   "display_name": "Python 3",
   "language": "python",
   "name": "python3"
  },
  "language_info": {
   "codemirror_mode": {
    "name": "ipython",
    "version": 3
   },
   "file_extension": ".py",
   "mimetype": "text/x-python",
   "name": "python",
   "nbconvert_exporter": "python",
   "pygments_lexer": "ipython3",
   "version": "3.8.5"
  }
 },
 "nbformat": 4,
 "nbformat_minor": 4
}
